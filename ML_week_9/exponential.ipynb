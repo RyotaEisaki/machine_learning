{
 "cells": [
  {
   "cell_type": "code",
   "execution_count": 24,
   "metadata": {},
   "outputs": [],
   "source": [
    "import math"
   ]
  },
  {
   "cell_type": "code",
   "execution_count": 25,
   "metadata": {},
   "outputs": [],
   "source": [
    "u_k0 = -13.683\n",
    "u_k1 =  -8.555\n",
    "u_k2 =  13.904\n",
    "u_k3 =  13.351\n",
    "u_k4 =   3.644\n",
    "u_k5 = -20.365\n",
    "u_k6 =   0.008\n",
    "u_k7 = -33.632\n",
    "u_k8 =  26.583\n",
    "u_k9 =  18.744"
   ]
  },
  {
   "cell_type": "code",
   "execution_count": 26,
   "metadata": {},
   "outputs": [],
   "source": [
    "u_k0_ = math.exp(u_k0)\n",
    "u_k1_=  math.exp(u_k1)\n",
    "u_k2_ =  math.exp(u_k2)\n",
    "u_k3_ = math.exp(u_k3)\n",
    "u_k4_ =  math.exp(u_k4)\n",
    "u_k5_ = math.exp(u_k5)\n",
    "u_k6_ =  math.exp(u_k6)\n",
    "u_k7_ =math.exp(u_k7)\n",
    "u_k8_ = math.exp(u_k8)\n",
    "u_k9_ =math.exp(u_k9)"
   ]
  },
  {
   "cell_type": "code",
   "execution_count": 27,
   "metadata": {},
   "outputs": [
    {
     "name": "stdout",
     "output_type": "stream",
     "text": [
      "1.1416910699590813e-06\n",
      "0.00019257978934689366\n",
      "1092522.7177337646\n",
      "628442.6161624958\n",
      "38.24450921371398\n",
      "1.4308459416418631e-09\n",
      "1.0080320855042735\n",
      "2.4763269528436904e-15\n",
      "350630920976.0476\n",
      "138170639.86221236\n"
     ]
    }
   ],
   "source": [
    "print(u_k0_)\n",
    "print(u_k1_)\n",
    "print(u_k2_)\n",
    "print(u_k3_)\n",
    "print(u_k4_)\n",
    "print(u_k5_)\n",
    "print(u_k6_)\n",
    "print(u_k7_)\n",
    "print(u_k8_)\n",
    "print(u_k9_)"
   ]
  },
  {
   "cell_type": "code",
   "execution_count": 28,
   "metadata": {},
   "outputs": [
    {
     "data": {
      "text/plain": [
       "350770812620.4964"
      ]
     },
     "execution_count": 28,
     "metadata": {},
     "output_type": "execute_result"
    }
   ],
   "source": [
    "T=u_k0_+u_k1_+u_k2_+u_k3_+u_k4_+u_k5_+u_k6_+u_k7_+u_k8_+u_k9_\n",
    "T"
   ]
  },
  {
   "cell_type": "code",
   "execution_count": 29,
   "metadata": {},
   "outputs": [
    {
     "data": {
      "text/plain": [
       "1.090299073859695e-10"
      ]
     },
     "execution_count": 29,
     "metadata": {},
     "output_type": "execute_result"
    }
   ],
   "source": [
    "u_k4_/T"
   ]
  },
  {
   "cell_type": "code",
   "execution_count": 30,
   "metadata": {},
   "outputs": [
    {
     "data": {
      "text/plain": [
       "0.9996011878998606"
      ]
     },
     "execution_count": 30,
     "metadata": {},
     "output_type": "execute_result"
    }
   ],
   "source": [
    "u_k8_/T"
   ]
  },
  {
   "cell_type": "code",
   "execution_count": 31,
   "metadata": {},
   "outputs": [
    {
     "data": {
      "text/plain": [
       "1.0000000000000002"
      ]
     },
     "execution_count": 31,
     "metadata": {},
     "output_type": "execute_result"
    }
   ],
   "source": [
    "u_k0_/T+u_k1_/T+u_k2_/T+u_k3_/T+u_k4_/T+u_k5_/T+u_k6_/T+u_k7_/T+u_k8_/T+u_k9_/T"
   ]
  },
  {
   "cell_type": "code",
   "execution_count": 23,
   "metadata": {},
   "outputs": [
    {
     "data": {
      "text/plain": [
       "True"
      ]
     },
     "execution_count": 23,
     "metadata": {},
     "output_type": "execute_result"
    }
   ],
   "source": [
    "(u_k8_/T)>(u_k4_/T)"
   ]
  },
  {
   "cell_type": "code",
   "execution_count": null,
   "metadata": {},
   "outputs": [],
   "source": []
  }
 ],
 "metadata": {
  "kernelspec": {
   "display_name": "Python 3",
   "language": "python",
   "name": "python3"
  },
  "language_info": {
   "codemirror_mode": {
    "name": "ipython",
    "version": 3
   },
   "file_extension": ".py",
   "mimetype": "text/x-python",
   "name": "python",
   "nbconvert_exporter": "python",
   "pygments_lexer": "ipython3",
   "version": "3.8.1"
  }
 },
 "nbformat": 4,
 "nbformat_minor": 4
}
