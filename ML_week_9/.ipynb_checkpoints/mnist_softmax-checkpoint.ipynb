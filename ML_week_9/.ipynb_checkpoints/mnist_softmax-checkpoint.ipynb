{
 "cells": [
  {
   "cell_type": "code",
   "execution_count": 1,
   "metadata": {
    "colab": {
     "base_uri": "https://localhost:8080/",
     "height": 51
    },
    "colab_type": "code",
    "executionInfo": {
     "elapsed": 28875,
     "status": "ok",
     "timestamp": 1593824727383,
     "user": {
      "displayName": "Jun Sakuma",
      "photoUrl": "https://lh3.googleusercontent.com/a-/AOh14Gi_pnSmWAHHN_F8rKoJeEXkF_9rQiS0kDtttZIT=s64",
      "userId": "09425362676336012668"
     },
     "user_tz": -540
    },
    "id": "ok78n6SNhCGZ",
    "outputId": "011d6ee8-3d56-4329-a84a-7d158574f95e"
   },
   "outputs": [
    {
     "name": "stdout",
     "output_type": "stream",
     "text": [
      "Data shape (70000, 784)\n",
      "Data target shape (70000,)\n"
     ]
    }
   ],
   "source": [
    "%matplotlib inline\n",
    "from sklearn.linear_model import LogisticRegression\n",
    "from sklearn.model_selection import train_test_split\n",
    "import numpy as np\n",
    "import matplotlib.pyplot as plt\n",
    "from sklearn.datasets import fetch_openml\n",
    "#MNIST download\n",
    "mnist = fetch_openml('mnist_784', version=1,)\n",
    "print('Data shape', mnist.data.shape)\n",
    "print('Data target shape', mnist.target.shape)"
   ]
  },
  {
   "cell_type": "code",
   "execution_count": 2,
   "metadata": {
    "colab": {
     "base_uri": "https://localhost:8080/",
     "height": 206
    },
    "colab_type": "code",
    "executionInfo": {
     "elapsed": 29632,
     "status": "ok",
     "timestamp": 1593151643696,
     "user": {
      "displayName": "Thien Tran Quang",
      "photoUrl": "https://lh3.googleusercontent.com/a-/AOh14Gh_p9hFOEBAd5rGiQP-1moIom7vfDM6A77__EoETA=s64",
      "userId": "05845872711232099978"
     },
     "user_tz": -540
    },
    "id": "zBbOuYcvhEyS",
    "outputId": "a51ef499-498f-4ed0-f01e-2971230f345b"
   },
   "outputs": [
    {
     "name": "stdout",
     "output_type": "stream",
     "text": [
      "Accuracy on test set:  0.855\n"
     ]
    },
    {
     "name": "stderr",
     "output_type": "stream",
     "text": [
      "/Library/Frameworks/Python.framework/Versions/3.8/lib/python3.8/site-packages/sklearn/linear_model/_logistic.py:938: ConvergenceWarning: lbfgs failed to converge (status=1):\n",
      "STOP: TOTAL NO. of ITERATIONS REACHED LIMIT.\n",
      "\n",
      "Increase the number of iterations (max_iter) or scale the data as shown in:\n",
      "    https://scikit-learn.org/stable/modules/preprocessing.html\n",
      "Please also refer to the documentation for alternative solver options:\n",
      "    https://scikit-learn.org/stable/modules/linear_model.html#logistic-regression\n",
      "  n_iter_i = _check_optimize_result(\n"
     ]
    }
   ],
   "source": [
    "# We first split our data into train and test file\n",
    "# Note that we limit the size of data size to shorten the calculation time\n",
    "train_size   = 1000\n",
    "test_size = 200\n",
    "x_train, x_test, y_train, y_test = train_test_split(mnist.data, mnist.target, \n",
    "                                                    train_size=train_size, \n",
    "                                                    test_size=test_size,\n",
    "                                                    random_state=37)\n",
    "\n",
    "# We train the logistic model with softmax function\n",
    "# by set the multi_class parameter to 'multinomial'\n",
    "logisticRegr = LogisticRegression(multi_class='multinomial', solver='lbfgs')\n",
    "logisticRegr.fit(x_train, y_train)\n",
    "\n",
    "# We then predict using the test data set\n",
    "acc = logisticRegr.score(x_test, y_test)\n",
    "print('Accuracy on test set: ', acc)"
   ]
  },
  {
   "cell_type": "code",
   "execution_count": 3,
   "metadata": {
    "cellView": "both",
    "colab": {
     "base_uri": "https://localhost:8080/",
     "height": 510
    },
    "colab_type": "code",
    "executionInfo": {
     "elapsed": 614,
     "status": "ok",
     "timestamp": 1593152537086,
     "user": {
      "displayName": "Thien Tran Quang",
      "photoUrl": "https://lh3.googleusercontent.com/a-/AOh14Gh_p9hFOEBAd5rGiQP-1moIom7vfDM6A77__EoETA=s64",
      "userId": "05845872711232099978"
     },
     "user_tz": -540
    },
    "id": "K6dKyWlRhfZb",
    "outputId": "27622fbe-7e59-4adb-f804-97272492fb1b"
   },
   "outputs": [
    {
     "name": "stdout",
     "output_type": "stream",
     "text": [
      "Showing data and predicting result for x_test[6]\n"
     ]
    },
    {
     "data": {
      "image/png": "[encoded data removed]",
      "text/plain": [
       "<Figure size 432x288 with 1 Axes>"
      ]
     },
     "metadata": {
      "needs_background": "light"
     },
     "output_type": "display_data"
    },
    {
     "name": "stdout",
     "output_type": "stream",
     "text": [
      "class = 0   u_k = -13.683   z_k = ?\n",
      "class = 1   u_k =  -8.555   z_k = ?\n",
      "class = 2   u_k =  13.904   z_k = ?\n",
      "class = 3   u_k =  13.351   z_k = ?\n",
      "class = 4   u_k =   3.644   z_k = ?\n",
      "class = 5   u_k = -20.365   z_k = ?\n",
      "class = 6   u_k =   0.008   z_k = ?\n",
      "class = 7   u_k = -33.632   z_k = ?\n",
      "class = 8   u_k =  26.583   z_k = ?\n",
      "class = 9   u_k =  18.744   z_k = ?\n",
      "y_predict = 8 , y_true = 8\n"
     ]
    }
   ],
   "source": [
    "#@title Choose an sample to show (0 <= index < 200) { run: \"auto\", vertical-output: true }\n",
    "index =  6#@param {type:\"integer\"}\n",
    "# Choose data index between 0 and 100\n",
    "\n",
    "# We calculate u and z for this data\n",
    "print('Showing data and predicting result for x_test[%d]' % index)\n",
    "x = x_test[index]\n",
    "U = np.dot(x, logisticRegr.coef_.T) + logisticRegr.intercept_\n",
    "Z = logisticRegr.predict_proba([x])\n",
    "\n",
    "plt.imshow(x.reshape(28, 28))\n",
    "plt.show()\n",
    "\n",
    "for y, (u, z) in enumerate(zip(U, Z[0])):\n",
    "    print('class = %d   u_k = %7.3f   z_k = ?' % (y, u))\n",
    "print('y_predict = %d , y_true = %d' % (int(logisticRegr.predict([x])[0]), \n",
    "                                        int(y_test[index])))"
   ]
  },
  {
   "cell_type": "code",
   "execution_count": 4,
   "metadata": {
    "colab": {
     "base_uri": "https://localhost:8080/",
     "height": 154
    },
    "colab_type": "code",
    "executionInfo": {
     "elapsed": 1521,
     "status": "error",
     "timestamp": 1593824728939,
     "user": {
      "displayName": "Jun Sakuma",
      "photoUrl": "https://lh3.googleusercontent.com/a-/AOh14Gi_pnSmWAHHN_F8rKoJeEXkF_9rQiS0kDtttZIT=s64",
      "userId": "09425362676336012668"
     },
     "user_tz": -540
    },
    "id": "yBdfqykKiQbn",
    "outputId": "9a243f05-80b2-4301-db98-1564af064628"
   },
   "outputs": [
    {
     "ename": "SyntaxError",
     "evalue": "invalid syntax (<ipython-input-4-8df8be35db7e>, line 1)",
     "output_type": "error",
     "traceback": [
      "\u001b[0;36m  File \u001b[0;32m\"<ipython-input-4-8df8be35db7e>\"\u001b[0;36m, line \u001b[0;32m1\u001b[0m\n\u001b[0;31m    \"#@title Choose a class to show result (0 <= class_no <= 9) { run: \"auto\", vertical-output: true, display-mode: \"both\" }\u001b[0m\n\u001b[0m                                                                        ^\u001b[0m\n\u001b[0;31mSyntaxError\u001b[0m\u001b[0;31m:\u001b[0m invalid syntax\n"
     ]
    }
   ],
   "source": [
    "\"#@title Choose a class to show result (0 <= class_no <= 9) { run: \"auto\", vertical-output: true, display-mode: \"both\" }\n",
    "class_no = 5 #@param {type:\"integer\"}\n",
    "# Let choose a digit and get top 10 test sample\n",
    "# that have the highest prediction's probability value\n",
    "x_test_proba = logisticRegr.predict_proba(x_test)[:, class_no]\n",
    "sorted_index = np.argsort(x_test_proba)[::-1]\n",
    "\n",
    "fig, ax = plt.subplots(nrows=4, ncols= 5, figsize=(13,13))\n",
    "ax = ax.flat\n",
    "for idx, index in enumerate(sorted_index[:20]):\n",
    "    ax[idx].imshow(x_test[index].reshape(28, 28))\n",
    "    ax[idx].set_xticks(ticks=[])\n",
    "    ax[idx].set_yticks(ticks=[])\n",
    "    ax[idx].set_title('true label = %d \\n p(%d|x) = %5f' % ( int(y_test[index]), class_no,\n",
    "                                         x_test_proba[index]))\n",
    "plt.show()"
   ]
  },
  {
   "cell_type": "code",
   "execution_count": null,
   "metadata": {},
   "outputs": [],
   "source": []
  }
 ],
 "metadata": {
  "colab": {
   "collapsed_sections": [],
   "name": "mnist_softmax.ipynb",
   "provenance": []
  },
  "kernelspec": {
   "display_name": "Python 3",
   "language": "python",
   "name": "python3"
  },
  "language_info": {
   "codemirror_mode": {
    "name": "ipython",
    "version": 3
   },
   "file_extension": ".py",
   "mimetype": "text/x-python",
   "name": "python",
   "nbconvert_exporter": "python",
   "pygments_lexer": "ipython3",
   "version": "3.8.1"
  }
 },
 "nbformat": 4,
 "nbformat_minor": 1
}
